{
 "cells": [
  {
   "cell_type": "code",
   "execution_count": 36,
   "metadata": {},
   "outputs": [],
   "source": [
    "from google.oauth2 import service_account\n",
    "from googleapiclient.discovery import build\n",
    "\n",
    "SCOPES = ['https://www.googleapis.com/auth/drive']\n",
    "SERVICE_ACCOUNT_FILE = 'resume-mdl-209aeff2da09.json'\n",
    "DOCUMENT_ID = '1N7AOH4gO5dyG6uqh_KWYeyN42vX36UMCCiOlXFbgYh4'"
   ]
  },
  {
   "cell_type": "code",
   "execution_count": 32,
   "metadata": {},
   "outputs": [],
   "source": [
    "def get_credentials():\n",
    "    credentials = service_account.Credentials.from_service_account_file(\n",
    "        SERVICE_ACCOUNT_FILE, scopes=SCOPES)\n",
    "\n",
    "    delegated_credentials = credentials.with_subject('caleb@calebeverett.io')\n",
    "    \n",
    "    return delegated_credentials\n",
    "    \n",
    "def read_paragraph_element(element):\n",
    "    \"\"\"Returns the text in the given ParagraphElement.\n",
    "\n",
    "        Args:\n",
    "            element: a ParagraphElement from a Google Doc.\n",
    "    \"\"\"\n",
    "    text_run = element.get('textRun')\n",
    "    if not text_run:\n",
    "        return ''\n",
    "    return text_run.get('content')\n",
    "\n",
    "\n",
    "def read_strucutural_elements(elements):\n",
    "    \"\"\"Recurses through a list of Structural Elements to read a document's text where text may be\n",
    "        in nested elements.\n",
    "\n",
    "        Args:\n",
    "            elements: a list of Structural Elements.\n",
    "    \"\"\"\n",
    "    text = ''\n",
    "    for value in elements:\n",
    "        if 'paragraph' in value:\n",
    "            elements = value.get('paragraph').get('elements')\n",
    "            for elem in elements:\n",
    "                text += read_paragraph_element(elem)\n",
    "        elif 'table' in value:\n",
    "            # The text in table cells are in nested Structural Elements and tables may be\n",
    "            # nested.\n",
    "            table = value.get('table')\n",
    "            for row in table.get('tableRows'):\n",
    "                cells = row.get('tableCells')\n",
    "                for cell in cells:\n",
    "                    text += read_strucutural_elements(cell.get('content'))\n",
    "        elif 'tableOfContents' in value:\n",
    "            # The text in the TOC is also in a Structural Element.\n",
    "            toc = value.get('tableOfContents')\n",
    "            text += read_strucutural_elements(toc.get('content'))\n",
    "    return text"
   ]
  },
  {
   "cell_type": "code",
   "execution_count": 33,
   "metadata": {},
   "outputs": [],
   "source": [
    "def main():\n",
    "    credentials = get_credentials()\n",
    "    service = build('docs', 'v1', credentials=credentials)\n",
    "    doc = service.documents().get(documentId=DOCUMENT_ID).execute()\n",
    "    doc_content = dot.get('body').get('content')\n",
    "    with open(\"data/welcome.toml\", \"w\") as text_file:\n",
    "        text_file.write(read_strucutural_elements(doc_content))"
   ]
  },
  {
   "cell_type": "code",
   "execution_count": 34,
   "metadata": {},
   "outputs": [],
   "source": [
    "if __name__ == '__main__':\n",
    "    main()"
   ]
  }
 ],
 "metadata": {
  "kernelspec": {
   "display_name": "Python 3",
   "language": "python",
   "name": "python3"
  },
  "language_info": {
   "codemirror_mode": {
    "name": "ipython",
    "version": 3
   },
   "file_extension": ".py",
   "mimetype": "text/x-python",
   "name": "python",
   "nbconvert_exporter": "python",
   "pygments_lexer": "ipython3",
   "version": "3.7.3"
  }
 },
 "nbformat": 4,
 "nbformat_minor": 2
}
